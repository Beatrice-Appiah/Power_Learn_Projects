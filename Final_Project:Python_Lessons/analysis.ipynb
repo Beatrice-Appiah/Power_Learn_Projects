{
 "cells": [
  {
   "cell_type": "markdown",
   "id": "03ea5e85",
   "metadata": {},
   "source": [
    "# 1. Imports Libraries & Load Data\n",
    "import pandas as pd\n",
    "import seaborn as sns\n",
    "import matplotlib.pyplot as plt\n",
    "\n",
    "# Load COVID-19 dataset\n",
    "df = pd.read_csv(\"dataset.csv\")\n",
    "\n",
    "# Display basic information\n",
    "print(df.info())\n",
    "print(df.head())\n",
    "\n",
    "# Check missing values\n",
    "print(df.isnull().sum())\n",
    "\n",
    "# Convert date column to datetime format\n",
    "df['date'] = pd.to_datetime(df['date'])\n",
    "\n",
    "\n",
    "# 2. Exploratory Data Analysis\n",
    "# Compute basic statistics\n",
    "print(df.describe())\n",
    "\n",
    "# Calculate death rate\n",
    "df[\"death_rate\"] = df[\"total_deaths\"] / df[\"total_cases\"]\n",
    "\n",
    "# Group by country and compute average cases\n",
    "country_avg_cases = df.groupby(\"location\")[\"total_cases\"].mean().sort_values(ascending=False)\n",
    "print(country_avg_cases.head(10))\n",
    "\n",
    "\n",
    "\n",
    "\n"
   ]
  }
 ],
 "metadata": {
  "kernelspec": {
   "display_name": "Python 3",
   "language": "python",
   "name": "python3"
  },
  "language_info": {
   "name": "python",
   "version": "3.8.9"
  }
 },
 "nbformat": 4,
 "nbformat_minor": 5
}
